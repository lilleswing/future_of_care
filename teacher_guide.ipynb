{
 "cells": [
  {
   "cell_type": "markdown",
   "metadata": {},
   "source": [
    "# Installing The Environment\n",
    "\n",
    "In order to do any kind of analysis we need the right tools.\n",
    "Here we are quickly going to install DeepChem and jupyter to work in for the rest of the workshop\n",
    "\n",
    "\n",
    "```bash\n",
    "# Install DeepChem\n",
    "git clone https://github.com/lilleswing/deepchem-slim.git\n",
    "bash scripts/install_deepchem_conda.sh future_of_care\n",
    "source activate future_of_care\n",
    "python setup.py install\n",
    "cd ..\n",
    "\n",
    "# Install jupyter\n",
    "conda install jupyter jupyterlab\n",
    "\n",
    "#Start your Notebook\n",
    "jupyter lab\n",
    "```"
   ]
  },
  {
   "cell_type": "markdown",
   "metadata": {},
   "source": [
    "## What We Are Doing Today\n",
    "\n",
    "https://pubs.acs.org/doi/abs/10.1021/acs.molpharmaceut.8b00110\n",
    "This paper came across my radar last week.  \n",
    "TODO (Some filler about why p450 is important)\n",
    "\n",
    "\n",
    "\n"
   ]
  },
  {
   "cell_type": "markdown",
   "metadata": {},
   "source": [
    "# Grabbing The Data\n",
    "\n",
    "Training Set\n",
    "https://pubchem.ncbi.nlm.nih.gov/bioassay/1851\n",
    "\n",
    "Test Sets\n",
    "* https://pubchem.ncbi.nlm.nih.gov/bioassay/410\n",
    "* https://pubchem.ncbi.nlm.nih.gov/bioassay/883\n",
    "* https://pubchem.ncbi.nlm.nih.gov/bioassay/899\n",
    "* https://pubchem.ncbi.nlm.nih.gov/bioassay/891\n",
    "* https://pubchem.ncbi.nlm.nih.gov/bioassay/884\n"
   ]
  },
  {
   "cell_type": "code",
   "execution_count": 1,
   "metadata": {},
   "outputs": [],
   "source": [
    "import pandas as pd"
   ]
  },
  {
   "cell_type": "code",
   "execution_count": 2,
   "metadata": {},
   "outputs": [
    {
     "name": "stderr",
     "output_type": "stream",
     "text": [
      "/home/leswing/miniconda3/envs/cornell/lib/python3.5/site-packages/IPython/core/interactiveshell.py:3018: DtypeWarning: Columns (0,7,9,10,12,13,15,16,17,18,19,20,22,23,24,25,26,27,28,29,30,31,32,33,34,35,36,37,39,40,42,43,44,45,46,47,49,50,51,52,53,54,55,56,57,58,59,60,61,62,63,64,66,67,69,70,71,72,73,74,76,77,78,79,80,81,82,83,84,85,86,87,88,89,90,91,93,94,96,97,98,99,100,101,103,104,105,106,107,108,109,110,111,112,113,114,115,116,117,118,120,121,123,124,125,126,127,128,130,131,132,133,134,135,136,137,138,139,140,141,142,143,144,145) have mixed types. Specify dtype option on import or set low_memory=False.\n",
      "  interactivity=interactivity, compiler=compiler, result=result)\n"
     ]
    }
   ],
   "source": [
    "df = pd.read_csv('data/AID_1851_datatable_all.csv')\n",
    "curve_columns = list(filter(lambda x: x.find('CurveClass') > 0, df.columns.tolist()))\n",
    "score_columns = list(filter(lambda x: x.find('Score') > 0, df.columns.tolist()))\n",
    "ID_COLUMN = ['PUBCHEM_CID']\n",
    "df = df[ID_COLUMN+curve_columns + score_columns]"
   ]
  },
  {
   "cell_type": "code",
   "execution_count": 3,
   "metadata": {},
   "outputs": [
    {
     "data": {
      "text/plain": [
       "['PUBCHEM_CID',\n",
       " 'p450-cyp2c19-Fit_CurveClass',\n",
       " 'p450-cyp2d6-Fit_CurveClass',\n",
       " 'p450-cyp3a4-Fit_CurveClass',\n",
       " 'p450-cyp1a2-Fit_CurveClass',\n",
       " 'p450-cyp2c9-Fit_CurveClass',\n",
       " 'Activity Score',\n",
       " 'Activity Score.1',\n",
       " 'Activity Score.2',\n",
       " 'Activity Score.3',\n",
       " 'Activity Score.4']"
      ]
     },
     "execution_count": 3,
     "metadata": {},
     "output_type": "execute_result"
    }
   ],
   "source": [
    "df.columns.tolist()"
   ]
  },
  {
   "cell_type": "code",
   "execution_count": 4,
   "metadata": {},
   "outputs": [],
   "source": [
    "import math\n",
    "def label_column(score, curve_class):\n",
    "    # Convert Units\n",
    "    score = float(score)\n",
    "    curve_class = str(abs(float(curve_class)))\n",
    "    \n",
    "    if score >= 40 and curve_class in (\"1.1\", \"1.2\", \"2.1\"):\n",
    "        return 1\n",
    "    if curve_class in (\"4.0\") and score==0:\n",
    "        return 0\n",
    "    return -1\n",
    "\n",
    "def read_smiles_lookup_map(fname):\n",
    "    with open(fname) as fin:\n",
    "        lines = fin.readlines()\n",
    "        lines = [x.strip().split(',') for x in lines]\n",
    "        d = {x[0]:x[1] for x in lines}\n",
    "        return d\n",
    "        \n",
    "\n",
    "def df_to_single_task(df, score_column, curve_column):\n",
    "    cids = df['PUBCHEM_CID'].tolist()[3:]\n",
    "    curve_classes = df[curve_column].tolist()[3:]\n",
    "    scores = df[score_column].tolist()[3:]\n",
    "    \n",
    "    smiles_lookup = read_smiles_lookup_map('data/smiles_lookup.csv')\n",
    "    table = []\n",
    "    for cid, curve_class, score in zip(cids, curve_classes, scores):\n",
    "        if pd.isna(cid) or pd.isna(curve_class) or pd.isna(score):\n",
    "            continue\n",
    "        cid = str(int(cid))\n",
    "        if cid not in smiles_lookup:\n",
    "            continue\n",
    "        smiles = smiles_lookup[cid]\n",
    "        table.append([smiles,curve_class,score])\n",
    "        \n",
    "    final_table = []\n",
    "    for smile, curve_class, score in table:\n",
    "        label = label_column(score, curve_class)\n",
    "        if label == -1:\n",
    "            continue\n",
    "        final_table.append([smile, str(label)])\n",
    "    return final_table\n"
   ]
  },
  {
   "cell_type": "code",
   "execution_count": 5,
   "metadata": {},
   "outputs": [],
   "source": [
    "table = df_to_single_task(df, 'Activity Score', 'p450-cyp2c19-Fit_CurveClass')\n",
    "with open('assets/2c19_train.csv', 'w') as fout:\n",
    "    for line in table:\n",
    "        line = \",\".join(line)\n",
    "        fout.write(\"%s\\n\" % line)"
   ]
  },
  {
   "cell_type": "code",
   "execution_count": 6,
   "metadata": {},
   "outputs": [
    {
     "data": {
      "text/plain": [
       "(10919, 5103.0, 5816.0)"
      ]
     },
     "execution_count": 6,
     "metadata": {},
     "output_type": "execute_result"
    }
   ],
   "source": [
    "# This doesn't line up with the paper!\n",
    "# This is a very common thing in this field.....\n",
    "y = [float(x[1]) for x in table]\n",
    "len(y), sum(y),  len(y) - sum(y)"
   ]
  },
  {
   "cell_type": "code",
   "execution_count": 7,
   "metadata": {},
   "outputs": [],
   "source": [
    "import pandas as pd\n",
    "df = pd.read_csv('data/AID_899_datatable_all.csv')\n",
    "curve_columns = list(filter(lambda x: x.find('CurveClass') > 0, df.columns.tolist()))\n",
    "score_columns = list(filter(lambda x: x.find('SCORE') > 0, df.columns.tolist()))\n",
    "ID_COLUMN = ['PUBCHEM_CID']\n",
    "df = df[ID_COLUMN+curve_columns + score_columns]"
   ]
  },
  {
   "cell_type": "code",
   "execution_count": 8,
   "metadata": {},
   "outputs": [
    {
     "data": {
      "text/plain": [
       "['PUBCHEM_CID', 'Fit_CurveClass', 'PUBCHEM_ACTIVITY_SCORE']"
      ]
     },
     "execution_count": 8,
     "metadata": {},
     "output_type": "execute_result"
    }
   ],
   "source": [
    "df.columns.tolist()"
   ]
  },
  {
   "cell_type": "code",
   "execution_count": 9,
   "metadata": {},
   "outputs": [],
   "source": [
    "table = df_to_single_task(df, 'PUBCHEM_ACTIVITY_SCORE', 'Fit_CurveClass')\n",
    "\n",
    "used_smiles = set()\n",
    "with open('assets/2c19_train.csv') as fin:\n",
    "    lines = [x.strip().split(',') for x in fin.readlines()]\n",
    "    used = set([x[0] for x in lines])\n",
    "    used_smiles.update(used)\n",
    "\n",
    "unique_table = []\n",
    "for line in table:\n",
    "    if line[0] in used_smiles:\n",
    "        continue\n",
    "    unique_table.append(line)\n",
    "table = unique_table\n",
    "with open('assets/2c19_test.csv', 'w') as fout:\n",
    "    for line in table:\n",
    "        line = \",\".join(line)\n",
    "        fout.write(\"%s\\n\" % line)"
   ]
  },
  {
   "cell_type": "code",
   "execution_count": 10,
   "metadata": {},
   "outputs": [
    {
     "data": {
      "text/plain": [
       "(722, 172.0, 550.0)"
      ]
     },
     "execution_count": 10,
     "metadata": {},
     "output_type": "execute_result"
    }
   ],
   "source": [
    "y = [float(x[1]) for x in table]\n",
    "len(y), sum(y),  len(y) - sum(y)"
   ]
  },
  {
   "cell_type": "code",
   "execution_count": null,
   "metadata": {},
   "outputs": [],
   "source": []
  }
 ],
 "metadata": {
  "kernelspec": {
   "display_name": "Python 3",
   "language": "python",
   "name": "python3"
  },
  "language_info": {
   "codemirror_mode": {
    "name": "ipython",
    "version": 3
   },
   "file_extension": ".py",
   "mimetype": "text/x-python",
   "name": "python",
   "nbconvert_exporter": "python",
   "pygments_lexer": "ipython3",
   "version": "3.5.6"
  }
 },
 "nbformat": 4,
 "nbformat_minor": 2
}
